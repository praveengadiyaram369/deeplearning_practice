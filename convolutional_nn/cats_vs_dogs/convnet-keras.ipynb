{
 "cells": [
  {
   "cell_type": "code",
   "execution_count": 18,
   "id": "advance-volleyball",
   "metadata": {},
   "outputs": [],
   "source": [
    "import tensorflow as tf\n",
    "import pickle\n",
    "\n",
    "from tensorflow.keras.callbacks import TensorBoard"
   ]
  },
  {
   "cell_type": "code",
   "execution_count": 19,
   "id": "toxic-sleeping",
   "metadata": {},
   "outputs": [],
   "source": [
    "NAME = \"Cats-vs-dogs-CNN\"\n",
    "tensorboard = TensorBoard(log_dir=\"logs/{}\".format(NAME))"
   ]
  },
  {
   "cell_type": "code",
   "execution_count": 5,
   "id": "mysterious-integration",
   "metadata": {},
   "outputs": [],
   "source": [
    "X = pickle.load(open('X.pickle', 'rb'))\n",
    "y = pickle.load(open('y.pickle', 'rb'))\n",
    "\n",
    "X = X/255."
   ]
  },
  {
   "cell_type": "code",
   "execution_count": 14,
   "id": "severe-stranger",
   "metadata": {},
   "outputs": [
    {
     "data": {
      "text/plain": [
       "(2757, 50, 50, 1)"
      ]
     },
     "execution_count": 14,
     "metadata": {},
     "output_type": "execute_result"
    }
   ],
   "source": [
    "X.shape"
   ]
  },
  {
   "cell_type": "code",
   "execution_count": 15,
   "id": "graduate-stroke",
   "metadata": {},
   "outputs": [
    {
     "name": "stdout",
     "output_type": "stream",
     "text": [
      "Model: \"sequential_2\"\n",
      "_________________________________________________________________\n",
      "Layer (type)                 Output Shape              Param #   \n",
      "=================================================================\n",
      "conv2d_4 (Conv2D)            (None, 48, 48, 64)        640       \n",
      "_________________________________________________________________\n",
      "max_pooling2d_4 (MaxPooling2 (None, 24, 24, 64)        0         \n",
      "_________________________________________________________________\n",
      "conv2d_5 (Conv2D)            (None, 22, 22, 64)        36928     \n",
      "_________________________________________________________________\n",
      "max_pooling2d_5 (MaxPooling2 (None, 11, 11, 64)        0         \n",
      "_________________________________________________________________\n",
      "flatten_2 (Flatten)          (None, 7744)              0         \n",
      "_________________________________________________________________\n",
      "dense_4 (Dense)              (None, 64)                495680    \n",
      "_________________________________________________________________\n",
      "dense_5 (Dense)              (None, 1)                 65        \n",
      "=================================================================\n",
      "Total params: 533,313\n",
      "Trainable params: 533,313\n",
      "Non-trainable params: 0\n",
      "_________________________________________________________________\n"
     ]
    }
   ],
   "source": [
    "model = tf.keras.models.Sequential([\n",
    "    tf.keras.layers.Conv2D(filters=64, kernel_size = (3, 3), input_shape=X.shape[1:], activation='relu'),\n",
    "    tf.keras.layers.MaxPooling2D(pool_size=(2,2)),\n",
    "    \n",
    "    tf.keras.layers.Conv2D(filters=64, kernel_size = (3, 3), activation='relu'),\n",
    "    tf.keras.layers.MaxPooling2D(pool_size=(2,2)),\n",
    "    \n",
    "    tf.keras.layers.Flatten(),\n",
    "    tf.keras.layers.Dense(units= 64, activation='relu'),\n",
    "    \n",
    "    tf.keras.layers.Dense(units= 1, activation='sigmoid')\n",
    "    \n",
    "])\n",
    "\n",
    "model.compile(loss='binary_crossentropy', optimizer='adam', metrics= ['accuracy'])\n",
    "model.summary()"
   ]
  },
  {
   "cell_type": "code",
   "execution_count": 20,
   "id": "loving-harris",
   "metadata": {},
   "outputs": [
    {
     "name": "stdout",
     "output_type": "stream",
     "text": [
      "Epoch 1/5\n",
      "78/78 [==============================] - 10s 128ms/step - loss: 0.5227 - accuracy: 0.7469 - val_loss: 0.5650 - val_accuracy: 0.7138\n",
      "Epoch 2/5\n",
      "78/78 [==============================] - 9s 118ms/step - loss: 0.5026 - accuracy: 0.7594 - val_loss: 0.5889 - val_accuracy: 0.7029\n",
      "Epoch 3/5\n",
      "78/78 [==============================] - 9s 115ms/step - loss: 0.4561 - accuracy: 0.7896 - val_loss: 0.5540 - val_accuracy: 0.7355\n",
      "Epoch 4/5\n",
      "78/78 [==============================] - 9s 121ms/step - loss: 0.4338 - accuracy: 0.7944 - val_loss: 0.5726 - val_accuracy: 0.7391\n",
      "Epoch 5/5\n",
      "78/78 [==============================] - 10s 133ms/step - loss: 0.3708 - accuracy: 0.8380 - val_loss: 0.5945 - val_accuracy: 0.7101\n"
     ]
    },
    {
     "data": {
      "text/plain": [
       "<tensorflow.python.keras.callbacks.History at 0x7efc844e80d0>"
      ]
     },
     "execution_count": 20,
     "metadata": {},
     "output_type": "execute_result"
    }
   ],
   "source": [
    "model.fit(X, y, batch_size=32, validation_split=0.1, epochs=5, callbacks= [tensorboard])"
   ]
  }
 ],
 "metadata": {
  "kernelspec": {
   "display_name": "Python 3",
   "language": "python",
   "name": "python3"
  },
  "language_info": {
   "codemirror_mode": {
    "name": "ipython",
    "version": 3
   },
   "file_extension": ".py",
   "mimetype": "text/x-python",
   "name": "python",
   "nbconvert_exporter": "python",
   "pygments_lexer": "ipython3",
   "version": "3.7.5"
  }
 },
 "nbformat": 4,
 "nbformat_minor": 5
}

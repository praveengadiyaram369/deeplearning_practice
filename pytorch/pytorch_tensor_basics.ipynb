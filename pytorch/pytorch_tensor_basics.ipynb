{
 "cells": [
  {
   "cell_type": "code",
   "execution_count": 1,
   "id": "colored-sitting",
   "metadata": {},
   "outputs": [],
   "source": [
    "import numpy as np\n",
    "import torch"
   ]
  },
  {
   "cell_type": "code",
   "execution_count": 8,
   "id": "atomic-format",
   "metadata": {},
   "outputs": [
    {
     "data": {
      "text/plain": [
       "False"
      ]
     },
     "execution_count": 8,
     "metadata": {},
     "output_type": "execute_result"
    }
   ],
   "source": [
    "torch.cuda.is_available()"
   ]
  },
  {
   "cell_type": "code",
   "execution_count": 9,
   "id": "brilliant-makeup",
   "metadata": {},
   "outputs": [
    {
     "name": "stdout",
     "output_type": "stream",
     "text": [
      "zsh:1: command not found: nvidia-smi\r\n"
     ]
    }
   ],
   "source": [
    "!nvidia-smi"
   ]
  },
  {
   "cell_type": "code",
   "execution_count": 3,
   "id": "tested-double",
   "metadata": {},
   "outputs": [
    {
     "data": {
      "text/plain": [
       "list"
      ]
     },
     "execution_count": 3,
     "metadata": {},
     "output_type": "execute_result"
    }
   ],
   "source": [
    "a = [[4,3], [1,2]]\n",
    "type(a)"
   ]
  },
  {
   "cell_type": "code",
   "execution_count": 5,
   "id": "genetic-abraham",
   "metadata": {},
   "outputs": [
    {
     "data": {
      "text/plain": [
       "[[4, 3], [1, 2]]"
      ]
     },
     "execution_count": 5,
     "metadata": {},
     "output_type": "execute_result"
    }
   ],
   "source": [
    "a"
   ]
  },
  {
   "cell_type": "code",
   "execution_count": 4,
   "id": "blessed-thing",
   "metadata": {},
   "outputs": [
    {
     "data": {
      "text/plain": [
       "array([[4, 3],\n",
       "       [1, 2]])"
      ]
     },
     "execution_count": 4,
     "metadata": {},
     "output_type": "execute_result"
    }
   ],
   "source": [
    "a_np = np.asarray(a)\n",
    "a_np"
   ]
  },
  {
   "cell_type": "code",
   "execution_count": 10,
   "id": "continued-exemption",
   "metadata": {},
   "outputs": [
    {
     "data": {
      "text/plain": [
       "tensor([[4, 3],\n",
       "        [1, 2]])"
      ]
     },
     "execution_count": 10,
     "metadata": {},
     "output_type": "execute_result"
    }
   ],
   "source": [
    "a_torch = torch.tensor(a)\n",
    "a_torch"
   ]
  },
  {
   "cell_type": "code",
   "execution_count": 11,
   "id": "expanded-payday",
   "metadata": {},
   "outputs": [
    {
     "data": {
      "text/plain": [
       "torch.Tensor"
      ]
     },
     "execution_count": 11,
     "metadata": {},
     "output_type": "execute_result"
    }
   ],
   "source": [
    "type(a_torch)"
   ]
  },
  {
   "cell_type": "code",
   "execution_count": 12,
   "id": "incident-memorabilia",
   "metadata": {},
   "outputs": [
    {
     "data": {
      "text/plain": [
       "torch.int64"
      ]
     },
     "execution_count": 12,
     "metadata": {},
     "output_type": "execute_result"
    }
   ],
   "source": [
    "a_torch.dtype"
   ]
  },
  {
   "cell_type": "code",
   "execution_count": 15,
   "id": "checked-cemetery",
   "metadata": {},
   "outputs": [
    {
     "data": {
      "text/plain": [
       "array([[0.02876857, 0.13585852, 0.84163006],\n",
       "       [0.69012832, 0.89342652, 0.43631069]])"
      ]
     },
     "execution_count": 15,
     "metadata": {},
     "output_type": "execute_result"
    }
   ],
   "source": [
    "np_array = np.random.rand(2,3)\n",
    "np_array"
   ]
  },
  {
   "cell_type": "code",
   "execution_count": 16,
   "id": "known-adaptation",
   "metadata": {},
   "outputs": [
    {
     "data": {
      "text/plain": [
       "tensor([[0.0288, 0.1359, 0.8416],\n",
       "        [0.6901, 0.8934, 0.4363]], dtype=torch.float64)"
      ]
     },
     "execution_count": 16,
     "metadata": {},
     "output_type": "execute_result"
    }
   ],
   "source": [
    "tensor_np = torch.tensor(np_array)\n",
    "tensor_np"
   ]
  },
  {
   "cell_type": "code",
   "execution_count": 18,
   "id": "proper-withdrawal",
   "metadata": {},
   "outputs": [
    {
     "data": {
      "text/plain": [
       "tensor([[1., 1., 1., 1.],\n",
       "        [1., 1., 1., 1.]])"
      ]
     },
     "execution_count": 18,
     "metadata": {},
     "output_type": "execute_result"
    }
   ],
   "source": [
    "torch.ones(2,4)"
   ]
  },
  {
   "cell_type": "code",
   "execution_count": 19,
   "id": "lightweight-sequence",
   "metadata": {},
   "outputs": [
    {
     "data": {
      "text/plain": [
       "tensor([[0., 0., 0., 0., 0.]])"
      ]
     },
     "execution_count": 19,
     "metadata": {},
     "output_type": "execute_result"
    }
   ],
   "source": [
    "torch.zeros(1,5)"
   ]
  },
  {
   "cell_type": "code",
   "execution_count": 17,
   "id": "external-pocket",
   "metadata": {},
   "outputs": [
    {
     "data": {
      "text/plain": [
       "tensor([[0.0503, 0.5109, 0.7314, 0.6395],\n",
       "        [0.3917, 0.4209, 0.9686, 0.7632],\n",
       "        [0.8504, 0.5648, 0.7668, 0.7648]])"
      ]
     },
     "execution_count": 17,
     "metadata": {},
     "output_type": "execute_result"
    }
   ],
   "source": [
    "random_tensor = torch.rand(3,4)\n",
    "random_tensor"
   ]
  },
  {
   "cell_type": "code",
   "execution_count": 21,
   "id": "secret-mailman",
   "metadata": {},
   "outputs": [
    {
     "data": {
      "text/plain": [
       "device(type='cpu')"
      ]
     },
     "execution_count": 21,
     "metadata": {},
     "output_type": "execute_result"
    }
   ],
   "source": [
    "random_tensor.device"
   ]
  },
  {
   "cell_type": "code",
   "execution_count": 22,
   "id": "dynamic-summit",
   "metadata": {},
   "outputs": [
    {
     "data": {
      "text/plain": [
       "tensor([[0.3917, 0.4209, 0.9686, 0.7632],\n",
       "        [0.8504, 0.5648, 0.7668, 0.7648]])"
      ]
     },
     "execution_count": 22,
     "metadata": {},
     "output_type": "execute_result"
    }
   ],
   "source": [
    "random_tensor[1:, :]"
   ]
  },
  {
   "cell_type": "code",
   "execution_count": 23,
   "id": "jewish-graph",
   "metadata": {},
   "outputs": [
    {
     "data": {
      "text/plain": [
       "tensor([[0.0025, 0.2610, 0.5349, 0.4089],\n",
       "        [0.1535, 0.1772, 0.9381, 0.5824],\n",
       "        [0.7232, 0.3190, 0.5879, 0.5849]])"
      ]
     },
     "execution_count": 23,
     "metadata": {},
     "output_type": "execute_result"
    }
   ],
   "source": [
    "random_tensor.mul(random_tensor)"
   ]
  },
  {
   "cell_type": "code",
   "execution_count": 24,
   "id": "wicked-exception",
   "metadata": {},
   "outputs": [
    {
     "data": {
      "text/plain": [
       "tensor([[0.0025, 0.2610, 0.5349, 0.4089],\n",
       "        [0.1535, 0.1772, 0.9381, 0.5824],\n",
       "        [0.7232, 0.3190, 0.5879, 0.5849]])"
      ]
     },
     "execution_count": 24,
     "metadata": {},
     "output_type": "execute_result"
    }
   ],
   "source": [
    "random_tensor * random_tensor"
   ]
  },
  {
   "cell_type": "code",
   "execution_count": 27,
   "id": "communist-territory",
   "metadata": {},
   "outputs": [
    {
     "data": {
      "text/plain": [
       "tensor([[1.2073, 1.4311, 1.3812],\n",
       "        [1.4311, 1.8512, 1.8972],\n",
       "        [1.3812, 1.8972, 2.2151]])"
      ]
     },
     "execution_count": 27,
     "metadata": {},
     "output_type": "execute_result"
    }
   ],
   "source": [
    "random_tensor.matmul(random_tensor.T)"
   ]
  },
  {
   "cell_type": "code",
   "execution_count": 28,
   "id": "appreciated-aluminum",
   "metadata": {},
   "outputs": [
    {
     "data": {
      "text/plain": [
       "tensor([[1.2073, 1.4311, 1.3812],\n",
       "        [1.4311, 1.8512, 1.8972],\n",
       "        [1.3812, 1.8972, 2.2151]])"
      ]
     },
     "execution_count": 28,
     "metadata": {},
     "output_type": "execute_result"
    }
   ],
   "source": [
    "torch.matmul(random_tensor, random_tensor.T)"
   ]
  },
  {
   "cell_type": "code",
   "execution_count": 29,
   "id": "exciting-queensland",
   "metadata": {},
   "outputs": [
    {
     "data": {
      "text/plain": [
       "tensor([1.2925, 1.4966, 2.4667, 2.1674])"
      ]
     },
     "execution_count": 29,
     "metadata": {},
     "output_type": "execute_result"
    }
   ],
   "source": [
    "random_tensor.sum(axis=0) #_ sum across the columns"
   ]
  },
  {
   "cell_type": "code",
   "execution_count": 30,
   "id": "faced-carpet",
   "metadata": {},
   "outputs": [
    {
     "data": {
      "text/plain": [
       "tensor([[0.0503, 0.5109, 0.7314, 0.6395],\n",
       "        [0.3917, 0.4209, 0.9686, 0.7632],\n",
       "        [0.8504, 0.5648, 0.7668, 0.7648],\n",
       "        [0.0503, 0.5109, 0.7314, 0.6395],\n",
       "        [0.3917, 0.4209, 0.9686, 0.7632],\n",
       "        [0.8504, 0.5648, 0.7668, 0.7648]])"
      ]
     },
     "execution_count": 30,
     "metadata": {},
     "output_type": "execute_result"
    }
   ],
   "source": [
    "torch.cat([random_tensor, random_tensor]) #_concatenate along the rows"
   ]
  },
  {
   "cell_type": "code",
   "execution_count": 31,
   "id": "interior-wings",
   "metadata": {},
   "outputs": [
    {
     "data": {
      "text/plain": [
       "tensor([[0.0503, 0.5109, 0.7314, 0.6395, 0.0503, 0.5109, 0.7314, 0.6395],\n",
       "        [0.3917, 0.4209, 0.9686, 0.7632, 0.3917, 0.4209, 0.9686, 0.7632],\n",
       "        [0.8504, 0.5648, 0.7668, 0.7648, 0.8504, 0.5648, 0.7668, 0.7648]])"
      ]
     },
     "execution_count": 31,
     "metadata": {},
     "output_type": "execute_result"
    }
   ],
   "source": [
    "torch.cat([random_tensor, random_tensor], axis=1) #_concatenate along the columns"
   ]
  },
  {
   "cell_type": "code",
   "execution_count": 33,
   "id": "improving-ceiling",
   "metadata": {},
   "outputs": [
    {
     "data": {
      "text/plain": [
       "tensor([[0.1572, 0.2491, 0.3105, 0.2833],\n",
       "        [0.1901, 0.1957, 0.3385, 0.2756],\n",
       "        [0.2786, 0.2094, 0.2563, 0.2557]])"
      ]
     },
     "execution_count": 33,
     "metadata": {},
     "output_type": "execute_result"
    }
   ],
   "source": [
    "torch.nn.functional.softmax(random_tensor, dim=1)"
   ]
  },
  {
   "cell_type": "code",
   "execution_count": 34,
   "id": "exclusive-blair",
   "metadata": {},
   "outputs": [
    {
     "data": {
      "text/plain": [
       "torch.Size([3, 4])"
      ]
     },
     "execution_count": 34,
     "metadata": {},
     "output_type": "execute_result"
    }
   ],
   "source": [
    "random_tensor.shape"
   ]
  },
  {
   "cell_type": "code",
   "execution_count": 35,
   "id": "disciplinary-friend",
   "metadata": {},
   "outputs": [
    {
     "data": {
      "text/plain": [
       "tensor([[0.3000, 0.5109, 0.6000, 0.6000],\n",
       "        [0.3917, 0.4209, 0.6000, 0.6000],\n",
       "        [0.6000, 0.5648, 0.6000, 0.6000]])"
      ]
     },
     "execution_count": 35,
     "metadata": {},
     "output_type": "execute_result"
    }
   ],
   "source": [
    "random_tensor.clip(0.3,0.6)"
   ]
  }
 ],
 "metadata": {
  "kernelspec": {
   "display_name": "Python 3",
   "language": "python",
   "name": "python3"
  },
  "language_info": {
   "codemirror_mode": {
    "name": "ipython",
    "version": 3
   },
   "file_extension": ".py",
   "mimetype": "text/x-python",
   "name": "python",
   "nbconvert_exporter": "python",
   "pygments_lexer": "ipython3",
   "version": "3.7.6"
  }
 },
 "nbformat": 4,
 "nbformat_minor": 5
}

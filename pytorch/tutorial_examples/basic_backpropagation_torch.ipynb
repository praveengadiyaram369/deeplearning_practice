{
 "cells": [
  {
   "cell_type": "code",
   "execution_count": 75,
   "id": "sustainable-webster",
   "metadata": {},
   "outputs": [],
   "source": [
    "import torch"
   ]
  },
  {
   "cell_type": "code",
   "execution_count": 76,
   "id": "chief-gilbert",
   "metadata": {},
   "outputs": [],
   "source": [
    "X = torch.tensor([1, 2, 3, 4], dtype=torch.float32)\n",
    "y = torch.tensor([2, 4, 6, 8], dtype=torch.float32)\n",
    "\n",
    "w = torch.tensor(0, dtype=torch.float32, requires_grad=True)"
   ]
  },
  {
   "cell_type": "code",
   "execution_count": 77,
   "id": "mature-colony",
   "metadata": {},
   "outputs": [],
   "source": [
    "def forward(x):\n",
    "    return w*x"
   ]
  },
  {
   "cell_type": "code",
   "execution_count": 78,
   "id": "southeast-voluntary",
   "metadata": {},
   "outputs": [],
   "source": [
    "def loss(y, y_pred):\n",
    "    return ((y_pred-y)**2).mean()"
   ]
  },
  {
   "cell_type": "code",
   "execution_count": 79,
   "id": "inner-surprise",
   "metadata": {},
   "outputs": [],
   "source": [
    "def gradient():\n",
    "    l.backward()\n",
    "    return w.grad()"
   ]
  },
  {
   "cell_type": "code",
   "execution_count": 80,
   "id": "german-delta",
   "metadata": {},
   "outputs": [
    {
     "data": {
      "text/plain": [
       "tensor([0., 0., 0., 0.], grad_fn=<MulBackward0>)"
      ]
     },
     "execution_count": 80,
     "metadata": {},
     "output_type": "execute_result"
    }
   ],
   "source": [
    "forward(X)"
   ]
  },
  {
   "cell_type": "code",
   "execution_count": 81,
   "id": "arbitrary-balance",
   "metadata": {},
   "outputs": [
    {
     "name": "stdout",
     "output_type": "stream",
     "text": [
      "epoch 0, loss=30.0, weight=0.29999998211860657\n",
      "epoch 1, loss=21.674999237060547, weight=0.5549999475479126\n",
      "epoch 2, loss=15.660187721252441, weight=0.7717499136924744\n",
      "epoch 3, loss=11.314486503601074, weight=0.9559874534606934\n",
      "epoch 4, loss=8.17471694946289, weight=1.1125893592834473\n",
      "epoch 5, loss=5.9062323570251465, weight=1.2457009553909302\n",
      "epoch 6, loss=4.2672529220581055, weight=1.358845829963684\n",
      "epoch 7, loss=3.083089828491211, weight=1.4550189971923828\n",
      "epoch 8, loss=2.227532148361206, weight=1.5367661714553833\n",
      "epoch 9, loss=1.609391689300537, weight=1.6062512397766113\n",
      "epoch 10, loss=1.1627856492996216, weight=1.6653136014938354\n",
      "epoch 11, loss=0.8401124477386475, weight=1.7155165672302246\n",
      "epoch 12, loss=0.6069811582565308, weight=1.758189082145691\n",
      "epoch 13, loss=0.4385439455509186, weight=1.7944607734680176\n",
      "epoch 14, loss=0.3168478012084961, weight=1.825291633605957\n",
      "epoch 15, loss=0.22892260551452637, weight=1.8514978885650635\n",
      "epoch 16, loss=0.1653965264558792, weight=1.873773217201233\n",
      "epoch 17, loss=0.11949898302555084, weight=1.8927072286605835\n",
      "epoch 18, loss=0.08633805811405182, weight=1.9088011980056763\n",
      "epoch 19, loss=0.0623791441321373, weight=1.9224810600280762\n"
     ]
    },
    {
     "data": {
      "text/plain": [
       "tensor([1.9225, 3.8450, 5.7674, 7.6899], grad_fn=<MulBackward0>)"
      ]
     },
     "execution_count": 81,
     "metadata": {},
     "output_type": "execute_result"
    }
   ],
   "source": [
    "learning_rate = 0.01\n",
    "\n",
    "for idx in range(20):\n",
    "    \n",
    "    y_pred = forward(X)\n",
    "    l = loss(y, y_pred)\n",
    "    \n",
    "    l.backward()\n",
    "    with torch.no_grad():\n",
    "        w -= learning_rate*w.grad\n",
    "    \n",
    "    w.grad.zero_()\n",
    "    \n",
    "    print(f'epoch {idx}, loss={l}, weight={w}')\n",
    "forward(X)"
   ]
  },
  {
   "cell_type": "code",
   "execution_count": null,
   "id": "controlling-investigation",
   "metadata": {},
   "outputs": [],
   "source": []
  }
 ],
 "metadata": {
  "kernelspec": {
   "display_name": "Python 3",
   "language": "python",
   "name": "python3"
  },
  "language_info": {
   "codemirror_mode": {
    "name": "ipython",
    "version": 3
   },
   "file_extension": ".py",
   "mimetype": "text/x-python",
   "name": "python",
   "nbconvert_exporter": "python",
   "pygments_lexer": "ipython3",
   "version": "3.7.6"
  }
 },
 "nbformat": 4,
 "nbformat_minor": 5
}

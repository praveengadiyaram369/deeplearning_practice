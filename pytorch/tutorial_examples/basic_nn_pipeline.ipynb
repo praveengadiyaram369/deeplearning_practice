{
 "cells": [
  {
   "cell_type": "code",
   "execution_count": 67,
   "id": "sustainable-webster",
   "metadata": {},
   "outputs": [],
   "source": [
    "import torch\n",
    "import torch.nn as nn"
   ]
  },
  {
   "cell_type": "code",
   "execution_count": 68,
   "id": "chief-gilbert",
   "metadata": {},
   "outputs": [],
   "source": [
    "X = torch.tensor([[1], [2], [3], [4]], dtype=torch.float32)\n",
    "y = torch.tensor([[2], [4], [6], [8]], dtype=torch.float32)\n",
    "\n",
    "X_test = torch.tensor([[5]], dtype=torch.float32)"
   ]
  },
  {
   "cell_type": "code",
   "execution_count": 69,
   "id": "tough-prefix",
   "metadata": {},
   "outputs": [
    {
     "name": "stdout",
     "output_type": "stream",
     "text": [
      "num samples: 4, num features: 1\n"
     ]
    }
   ],
   "source": [
    "n_samples, n_features = X.shape\n",
    "print(f'num samples: {n_samples}, num features: {n_features}')"
   ]
  },
  {
   "cell_type": "code",
   "execution_count": 70,
   "id": "pretty-depth",
   "metadata": {},
   "outputs": [],
   "source": [
    "learning_rate = 0.1\n",
    "epochs = 20"
   ]
  },
  {
   "cell_type": "code",
   "execution_count": 71,
   "id": "hazardous-independence",
   "metadata": {},
   "outputs": [],
   "source": [
    "input_size = n_features\n",
    "output_size = n_features\n",
    "#model = nn.Linear(input_size, output_size)"
   ]
  },
  {
   "cell_type": "code",
   "execution_count": 72,
   "id": "popular-instrumentation",
   "metadata": {},
   "outputs": [],
   "source": [
    "class LinearRegression(nn.Module):\n",
    "    \n",
    "    def __init__(self, input_dim, output_dim):\n",
    "        super(LinearRegression, self).__init__()\n",
    "        self.lin = nn.Linear(input_dim, output_dim)\n",
    "        \n",
    "    def forward(self, x):\n",
    "        return self.lin(x)"
   ]
  },
  {
   "cell_type": "code",
   "execution_count": 73,
   "id": "ordinary-electronics",
   "metadata": {},
   "outputs": [],
   "source": [
    "model = LinearRegression(input_size, output_size)"
   ]
  },
  {
   "cell_type": "code",
   "execution_count": 74,
   "id": "abandoned-timeline",
   "metadata": {},
   "outputs": [],
   "source": [
    "loss = nn.MSELoss()\n",
    "optimizer = torch.optim.SGD(model.parameters(), lr=learning_rate)"
   ]
  },
  {
   "cell_type": "code",
   "execution_count": 75,
   "id": "arbitrary-balance",
   "metadata": {},
   "outputs": [
    {
     "name": "stdout",
     "output_type": "stream",
     "text": [
      "epoch 0, loss=22.715309143066406, weight=2.5861034393310547\n",
      "epoch 1, loss=10.353607177734375, weight=0.8644416332244873\n",
      "epoch 2, loss=4.794297218322754, weight=2.040299892425537\n",
      "epoch 3, loss=2.2896745204925537, weight=1.2739768028259277\n",
      "epoch 4, loss=1.1570559740066528, weight=1.8083879947662354\n",
      "epoch 5, loss=0.6409201622009277, weight=1.4706013202667236\n",
      "epoch 6, loss=0.4020228683948517, weight=1.716632604598999\n",
      "epoch 7, loss=0.2880227565765381, weight=1.570880651473999\n",
      "epoch 8, loss=0.2304970622062683, weight=1.6870753765106201\n",
      "epoch 9, loss=0.19870135188102722, weight=1.6271950006484985\n",
      "epoch 10, loss=0.1788100004196167, weight=1.6847574710845947\n",
      "epoch 11, loss=0.1645943522453308, weight=1.6631039381027222\n",
      "epoch 12, loss=0.1532391607761383, weight=1.694023609161377\n",
      "epoch 13, loss=0.14346113801002502, weight=1.6892247200012207\n",
      "epoch 14, loss=0.1346675455570221, weight=1.7078826427459717\n",
      "epoch 15, loss=0.1265755146741867, weight=1.7103608846664429\n",
      "epoch 16, loss=0.11904294788837433, weight=1.7232320308685303\n",
      "epoch 17, loss=0.11199148744344711, weight=1.7287040948867798\n",
      "epoch 18, loss=0.10537256300449371, weight=1.7387120723724365\n",
      "epoch 19, loss=0.09915146231651306, weight=1.7452713251113892\n"
     ]
    }
   ],
   "source": [
    "for idx in range(epochs):\n",
    "    \n",
    "    y_pred = model(X)\n",
    "    l = loss(y, y_pred)\n",
    "    \n",
    "    l.backward()\n",
    "    optimizer.step()\n",
    "    \n",
    "    optimizer.zero_grad()\n",
    "    \n",
    "    [w, b] = model.parameters()\n",
    "    print(f'epoch {idx}, loss={l}, weight={w[0][0]}')"
   ]
  },
  {
   "cell_type": "code",
   "execution_count": 76,
   "id": "buried-buddy",
   "metadata": {},
   "outputs": [
    {
     "data": {
      "text/plain": [
       "tensor([[9.4736]], grad_fn=<AddmmBackward>)"
      ]
     },
     "execution_count": 76,
     "metadata": {},
     "output_type": "execute_result"
    }
   ],
   "source": [
    "model(X_test)"
   ]
  },
  {
   "cell_type": "code",
   "execution_count": null,
   "id": "controlling-investigation",
   "metadata": {},
   "outputs": [],
   "source": []
  }
 ],
 "metadata": {
  "kernelspec": {
   "display_name": "Python 3",
   "language": "python",
   "name": "python3"
  },
  "language_info": {
   "codemirror_mode": {
    "name": "ipython",
    "version": 3
   },
   "file_extension": ".py",
   "mimetype": "text/x-python",
   "name": "python",
   "nbconvert_exporter": "python",
   "pygments_lexer": "ipython3",
   "version": "3.7.6"
  }
 },
 "nbformat": 4,
 "nbformat_minor": 5
}

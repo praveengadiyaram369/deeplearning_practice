{
 "cells": [
  {
   "cell_type": "code",
   "execution_count": 1,
   "id": "large-ratio",
   "metadata": {},
   "outputs": [],
   "source": [
    "import torch"
   ]
  },
  {
   "cell_type": "code",
   "execution_count": 2,
   "id": "exceptional-wages",
   "metadata": {},
   "outputs": [
    {
     "data": {
      "text/plain": [
       "tensor([-1.3186e-36,  4.5747e-41,  7.2868e-44,  0.0000e+00,  0.0000e+00])"
      ]
     },
     "execution_count": 2,
     "metadata": {},
     "output_type": "execute_result"
    }
   ],
   "source": [
    "x = torch.empty(5)\n",
    "x"
   ]
  },
  {
   "cell_type": "code",
   "execution_count": 3,
   "id": "aging-california",
   "metadata": {},
   "outputs": [
    {
     "data": {
      "text/plain": [
       "tensor([[0.3962, 0.2603, 0.5002],\n",
       "        [0.2683, 0.1107, 0.7737]])"
      ]
     },
     "execution_count": 3,
     "metadata": {},
     "output_type": "execute_result"
    }
   ],
   "source": [
    "random_tensor = torch.rand(2,3)\n",
    "random_tensor"
   ]
  },
  {
   "cell_type": "code",
   "execution_count": 4,
   "id": "imported-champion",
   "metadata": {},
   "outputs": [
    {
     "data": {
      "text/plain": [
       "tensor([[[1., 1., 1.],\n",
       "         [1., 1., 1.]]])"
      ]
     },
     "execution_count": 4,
     "metadata": {},
     "output_type": "execute_result"
    }
   ],
   "source": [
    "ones_t = torch.ones(1,2,3)\n",
    "ones_t"
   ]
  },
  {
   "cell_type": "code",
   "execution_count": 5,
   "id": "super-projection",
   "metadata": {},
   "outputs": [
    {
     "data": {
      "text/plain": [
       "torch.float32"
      ]
     },
     "execution_count": 5,
     "metadata": {},
     "output_type": "execute_result"
    }
   ],
   "source": [
    "x.dtype"
   ]
  },
  {
   "cell_type": "code",
   "execution_count": 6,
   "id": "accessible-angola",
   "metadata": {},
   "outputs": [
    {
     "data": {
      "text/plain": [
       "tensor([[[1, 1, 1],\n",
       "         [1, 1, 1]]], dtype=torch.int32)"
      ]
     },
     "execution_count": 6,
     "metadata": {},
     "output_type": "execute_result"
    }
   ],
   "source": [
    "ones_t = torch.ones(1,2,3, dtype=torch.int)\n",
    "ones_t"
   ]
  },
  {
   "cell_type": "code",
   "execution_count": 8,
   "id": "seven-relay",
   "metadata": {},
   "outputs": [
    {
     "data": {
      "text/plain": [
       "tensor([[0.4580, 0.3442, 0.8291],\n",
       "        [0.3677, 0.9424, 0.1387]], dtype=torch.float16)"
      ]
     },
     "execution_count": 8,
     "metadata": {},
     "output_type": "execute_result"
    }
   ],
   "source": [
    "random_tensor = torch.rand(2,3, dtype= torch.float16)\n",
    "random_tensor"
   ]
  },
  {
   "cell_type": "code",
   "execution_count": 9,
   "id": "occupied-hampshire",
   "metadata": {},
   "outputs": [
    {
     "data": {
      "text/plain": [
       "torch.Size([2, 3])"
      ]
     },
     "execution_count": 9,
     "metadata": {},
     "output_type": "execute_result"
    }
   ],
   "source": [
    "random_tensor.size()"
   ]
  },
  {
   "cell_type": "code",
   "execution_count": 10,
   "id": "common-definition",
   "metadata": {},
   "outputs": [
    {
     "data": {
      "text/plain": [
       "tensor([1, 2, 3, 4, 5, 6])"
      ]
     },
     "execution_count": 10,
     "metadata": {},
     "output_type": "execute_result"
    }
   ],
   "source": [
    "torch.tensor([1,2,3,4,5,6])"
   ]
  },
  {
   "cell_type": "code",
   "execution_count": 11,
   "id": "informal-japanese",
   "metadata": {},
   "outputs": [
    {
     "data": {
      "text/plain": [
       "tensor([[0.8631, 1.6362, 0.8443],\n",
       "        [0.4687, 0.7700, 1.2469],\n",
       "        [1.3643, 0.5742, 0.9817]])"
      ]
     },
     "execution_count": 11,
     "metadata": {},
     "output_type": "execute_result"
    }
   ],
   "source": [
    "x = torch.rand(3,3)\n",
    "y = torch.rand(3,3)\n",
    "z = x + y\n",
    "z"
   ]
  },
  {
   "cell_type": "code",
   "execution_count": 12,
   "id": "agricultural-boston",
   "metadata": {},
   "outputs": [
    {
     "data": {
      "text/plain": [
       "tensor([[0.8631, 1.6362, 0.8443],\n",
       "        [0.4687, 0.7700, 1.2469],\n",
       "        [1.3643, 0.5742, 0.9817]])"
      ]
     },
     "execution_count": 12,
     "metadata": {},
     "output_type": "execute_result"
    }
   ],
   "source": [
    "y.add_(x) # _ underscore means inplace updation\n",
    "y"
   ]
  },
  {
   "cell_type": "code",
   "execution_count": 13,
   "id": "guilty-bench",
   "metadata": {},
   "outputs": [
    {
     "data": {
      "text/plain": [
       "tensor([[4.7289e-01, 9.1171e-01, 9.0950e-02],\n",
       "        [2.5424e-02, 4.8131e-01, 3.7432e-04],\n",
       "        [6.0664e-02, 7.1672e-01, 5.5779e-01],\n",
       "        [6.1256e-01, 2.3480e-01, 2.8664e-01]])"
      ]
     },
     "execution_count": 13,
     "metadata": {},
     "output_type": "execute_result"
    }
   ],
   "source": [
    "t = torch.rand(4,6)\n",
    "t[:, 1:4]"
   ]
  },
  {
   "cell_type": "code",
   "execution_count": 14,
   "id": "little-motorcycle",
   "metadata": {},
   "outputs": [
    {
     "data": {
      "text/plain": [
       "tensor([[4.1154e-01, 4.7289e-01, 9.1171e-01, 9.0950e-02, 9.8452e-01, 3.4950e-01,\n",
       "         5.1840e-01, 2.5424e-02],\n",
       "        [4.8131e-01, 3.7432e-04, 4.4270e-01, 2.0669e-01, 9.1947e-01, 6.0664e-02,\n",
       "         7.1672e-01, 5.5779e-01],\n",
       "        [1.9964e-01, 8.5426e-02, 4.0117e-01, 6.1256e-01, 2.3480e-01, 2.8664e-01,\n",
       "         4.5281e-02, 5.8796e-01]])"
      ]
     },
     "execution_count": 14,
     "metadata": {},
     "output_type": "execute_result"
    }
   ],
   "source": [
    "t = t.view(-1, 8) # -similar to reshape in numpy\n",
    "t"
   ]
  }
 ],
 "metadata": {
  "kernelspec": {
   "display_name": "Python 3",
   "language": "python",
   "name": "python3"
  },
  "language_info": {
   "codemirror_mode": {
    "name": "ipython",
    "version": 3
   },
   "file_extension": ".py",
   "mimetype": "text/x-python",
   "name": "python",
   "nbconvert_exporter": "python",
   "pygments_lexer": "ipython3",
   "version": "3.7.6"
  }
 },
 "nbformat": 4,
 "nbformat_minor": 5
}

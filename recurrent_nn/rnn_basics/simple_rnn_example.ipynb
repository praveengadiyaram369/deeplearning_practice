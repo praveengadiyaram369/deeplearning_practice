{
  "nbformat": 4,
  "nbformat_minor": 0,
  "metadata": {
    "colab": {
      "name": "simple_rnn_example.ipynb",
      "provenance": []
    },
    "kernelspec": {
      "name": "python3",
      "display_name": "Python 3"
    },
    "language_info": {
      "name": "python"
    }
  },
  "cells": [
    {
      "cell_type": "code",
      "metadata": {
        "id": "M4yggBIgttn6"
      },
      "source": [
        "import tensorflow as tf\n",
        "import numpy as np\n",
        "import matplotlib.pyplot as plt"
      ],
      "execution_count": 1,
      "outputs": []
    },
    {
      "cell_type": "code",
      "metadata": {
        "id": "PxDpRr95uA9F"
      },
      "source": [
        "T=8\n",
        "D=2\n",
        "M=3"
      ],
      "execution_count": 2,
      "outputs": []
    },
    {
      "cell_type": "code",
      "metadata": {
        "colab": {
          "base_uri": "https://localhost:8080/"
        },
        "id": "_QIU3qxQuKJv",
        "outputId": "c9d9addd-afe0-42b6-a8d8-73e95c183d4b"
      },
      "source": [
        "X = np.random.randn(1, T, D)\n",
        "X"
      ],
      "execution_count": 6,
      "outputs": [
        {
          "output_type": "execute_result",
          "data": {
            "text/plain": [
              "array([[[ 0.1064096 ,  1.58960527],\n",
              "        [ 0.97370068,  0.20258235],\n",
              "        [ 1.23757792, -0.72061843],\n",
              "        [ 1.69564744,  0.10761831],\n",
              "        [-0.06240792,  0.66033281],\n",
              "        [-0.14406551, -0.14251515],\n",
              "        [-0.4205752 ,  0.19733169],\n",
              "        [-1.17235025, -0.91646475]]])"
            ]
          },
          "metadata": {
            "tags": []
          },
          "execution_count": 6
        }
      ]
    },
    {
      "cell_type": "code",
      "metadata": {
        "id": "9ZoUOTliu812"
      },
      "source": [
        "def lstm1():\n",
        "\n",
        "  input_ = tf.keras.Input(shape=(T, D))\n",
        "  rnn = tf.keras.layers.LSTM(M, return_state=True)\n",
        "  x = rnn(input_)\n",
        "\n",
        "  model = tf.keras.Model(inputs=input_, outputs=x)\n",
        "  o, h, c = model.predict(X)\n",
        "  print(f'\\n output: {o} \\n hidden state: {h} \\n cell state: {c}')\n",
        "\n",
        "def lstm2():\n",
        "\n",
        "  input_ = tf.keras.Input(shape=(T, D))\n",
        "  rnn = tf.keras.layers.LSTM(M, return_state=True, return_sequences=True)\n",
        "  x = rnn(input_)\n",
        "\n",
        "  model = tf.keras.Model(inputs=input_, outputs=x)\n",
        "  o, h, c = model.predict(X)\n",
        "  print(f'\\n output: {o} \\n hidden state: {h} \\n cell state: {c}')"
      ],
      "execution_count": 11,
      "outputs": []
    },
    {
      "cell_type": "code",
      "metadata": {
        "id": "f03QTHqCz5pQ"
      },
      "source": [
        "def gru1():\n",
        "\n",
        "  input_ = tf.keras.Input(shape=(T, D))\n",
        "  rnn = tf.keras.layers.GRU(M, return_state=True)\n",
        "  x = rnn(input_)\n",
        "\n",
        "  model = tf.keras.Model(inputs=input_, outputs=x)\n",
        "  o, h = model.predict(X)\n",
        "  print(f'\\n output: {o} \\n hidden state: {h}')\n",
        "\n",
        "def gru2():\n",
        "\n",
        "  input_ = tf.keras.Input(shape=(T, D))\n",
        "  rnn = tf.keras.layers.GRU(M, return_state=True, return_sequences=True)\n",
        "  x = rnn(input_)\n",
        "\n",
        "  model = tf.keras.Model(inputs=input_, outputs=x)\n",
        "  o, h = model.predict(X)\n",
        "  print(f'\\n output: {o} \\n hidden state: {h}')"
      ],
      "execution_count": 9,
      "outputs": []
    },
    {
      "cell_type": "code",
      "metadata": {
        "colab": {
          "base_uri": "https://localhost:8080/"
        },
        "id": "MeksGnmK0evU",
        "outputId": "7f26e825-5912-41af-f14b-b4a302da398e"
      },
      "source": [
        "lstm1()\n",
        "print()\n",
        "lstm2()\n",
        "print()\n",
        "gru1()\n",
        "print()\n",
        "gru2()"
      ],
      "execution_count": 12,
      "outputs": [
        {
          "output_type": "stream",
          "text": [
            "\n",
            " output: [[-0.04089801  0.0511228  -0.06536477]] \n",
            " hidden state: [[-0.04089801  0.0511228  -0.06536477]] \n",
            " cell state: [[-0.10081381  0.0770378  -0.11647668]]\n",
            "\n",
            "\n",
            " output: [[[-0.21077417 -0.00374496 -0.18461013]\n",
            "  [-0.2071511  -0.18030667 -0.17805585]\n",
            "  [-0.07792532 -0.32132316 -0.12504598]\n",
            "  [-0.15552571 -0.45344105 -0.13648558]\n",
            "  [-0.24431054 -0.19230084 -0.2641816 ]\n",
            "  [-0.14913143 -0.13262443 -0.20833175]\n",
            "  [-0.14574641 -0.02891706 -0.17252581]\n",
            "  [ 0.04635446  0.07991847  0.01225348]]] \n",
            " hidden state: [[0.04635446 0.07991847 0.01225348]] \n",
            " cell state: [[0.10412998 0.22890729 0.01741502]]\n",
            "\n",
            "WARNING:tensorflow:5 out of the last 5 calls to <function Model.make_predict_function.<locals>.predict_function at 0x7fd9aa85b4d0> triggered tf.function retracing. Tracing is expensive and the excessive number of tracings could be due to (1) creating @tf.function repeatedly in a loop, (2) passing tensors with different shapes, (3) passing Python objects instead of tensors. For (1), please define your @tf.function outside of the loop. For (2), @tf.function has experimental_relax_shapes=True option that relaxes argument shapes that can avoid unnecessary retracing. For (3), please refer to https://www.tensorflow.org/guide/function#controlling_retracing and https://www.tensorflow.org/api_docs/python/tf/function for  more details.\n",
            "\n",
            " output: [[ 0.01225862 -0.01366939  0.13360819]] \n",
            " hidden state: [[ 0.01225862 -0.01366939  0.13360819]]\n",
            "\n",
            "WARNING:tensorflow:6 out of the last 6 calls to <function Model.make_predict_function.<locals>.predict_function at 0x7fd9b2209cb0> triggered tf.function retracing. Tracing is expensive and the excessive number of tracings could be due to (1) creating @tf.function repeatedly in a loop, (2) passing tensors with different shapes, (3) passing Python objects instead of tensors. For (1), please define your @tf.function outside of the loop. For (2), @tf.function has experimental_relax_shapes=True option that relaxes argument shapes that can avoid unnecessary retracing. For (3), please refer to https://www.tensorflow.org/guide/function#controlling_retracing and https://www.tensorflow.org/api_docs/python/tf/function for  more details.\n",
            "\n",
            " output: [[[ 0.21295407  0.28842866  0.09085738]\n",
            "  [ 0.13635445  0.32102048 -0.14624181]\n",
            "  [-0.04552693  0.22495528 -0.44006607]\n",
            "  [ 0.17240448  0.30564508 -0.5186654 ]\n",
            "  [ 0.21264446  0.21665278 -0.21912864]\n",
            "  [ 0.08088146 -0.02828521 -0.10217682]\n",
            "  [ 0.05941249 -0.07304575  0.06484315]\n",
            "  [-0.13327943 -0.52747387  0.22105016]]] \n",
            " hidden state: [[-0.13327943 -0.52747387  0.22105016]]\n"
          ],
          "name": "stdout"
        }
      ]
    }
  ]
}
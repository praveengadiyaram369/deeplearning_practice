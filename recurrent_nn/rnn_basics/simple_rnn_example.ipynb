{
  "nbformat": 4,
  "nbformat_minor": 0,
  "metadata": {
    "colab": {
      "name": "simple_rnn_example.ipynb",
      "provenance": []
    },
    "kernelspec": {
      "name": "python3",
      "display_name": "Python 3"
    },
    "language_info": {
      "name": "python"
    },
    "accelerator": "GPU"
  },
  "cells": [
    {
      "cell_type": "code",
      "metadata": {
        "colab": {
          "base_uri": "https://localhost:8080/",
          "height": 1000
        },
        "id": "bnXRkyy46do-",
        "outputId": "ddb6fa39-8bac-420c-ba29-75da31a32785"
      },
      "source": [
        "!pip install tensorflow-gpu"
      ],
      "execution_count": 9,
      "outputs": [
        {
          "output_type": "stream",
          "text": [
            "Collecting tensorflow-gpu\n",
            "\u001b[?25l  Downloading https://files.pythonhosted.org/packages/1d/a2/5ccf0a418eb22e0a2ae9edc1e7f5456d0a4b8b49524572897564b4030a9b/tensorflow_gpu-2.5.0-cp37-cp37m-manylinux2010_x86_64.whl (454.3MB)\n",
            "\u001b[K     |████████████████████████████████| 454.3MB 40kB/s \n",
            "\u001b[?25hRequirement already satisfied: absl-py~=0.10 in /usr/local/lib/python3.7/dist-packages (from tensorflow-gpu) (0.12.0)\n",
            "Collecting h5py~=3.1.0\n",
            "\u001b[?25l  Downloading https://files.pythonhosted.org/packages/9d/74/9eae2bedd8201ab464308f42c601a12d79727a1c87f0c867fdefb212c6cf/h5py-3.1.0-cp37-cp37m-manylinux1_x86_64.whl (4.0MB)\n",
            "\u001b[K     |████████████████████████████████| 4.0MB 46.3MB/s \n",
            "\u001b[?25hCollecting gast==0.4.0\n",
            "  Downloading https://files.pythonhosted.org/packages/b6/48/583c032b79ae5b3daa02225a675aeb673e58d2cb698e78510feceb11958c/gast-0.4.0-py3-none-any.whl\n",
            "Requirement already satisfied: termcolor~=1.1.0 in /usr/local/lib/python3.7/dist-packages (from tensorflow-gpu) (1.1.0)\n",
            "Requirement already satisfied: astunparse~=1.6.3 in /usr/local/lib/python3.7/dist-packages (from tensorflow-gpu) (1.6.3)\n",
            "Collecting keras-nightly~=2.5.0.dev\n",
            "\u001b[?25l  Downloading https://files.pythonhosted.org/packages/aa/e7/53bc896aa4e11a87aac10a625c676b3a3d57d1c8d9929e4809d31fa0b7d5/keras_nightly-2.5.0.dev2021032900-py2.py3-none-any.whl (1.2MB)\n",
            "\u001b[K     |████████████████████████████████| 1.2MB 41.0MB/s \n",
            "\u001b[?25hRequirement already satisfied: six~=1.15.0 in /usr/local/lib/python3.7/dist-packages (from tensorflow-gpu) (1.15.0)\n",
            "Requirement already satisfied: opt-einsum~=3.3.0 in /usr/local/lib/python3.7/dist-packages (from tensorflow-gpu) (3.3.0)\n",
            "Collecting grpcio~=1.34.0\n",
            "\u001b[?25l  Downloading https://files.pythonhosted.org/packages/d5/d1/f38a91d8724706427fe973a7dfa11e938cee98aa7196b03d870a25a08bab/grpcio-1.34.1-cp37-cp37m-manylinux2014_x86_64.whl (4.0MB)\n",
            "\u001b[K     |████████████████████████████████| 4.0MB 31.6MB/s \n",
            "\u001b[?25hRequirement already satisfied: wrapt~=1.12.1 in /usr/local/lib/python3.7/dist-packages (from tensorflow-gpu) (1.12.1)\n",
            "Requirement already satisfied: keras-preprocessing~=1.1.2 in /usr/local/lib/python3.7/dist-packages (from tensorflow-gpu) (1.1.2)\n",
            "Collecting tensorflow-estimator<2.6.0,>=2.5.0rc0\n",
            "\u001b[?25l  Downloading https://files.pythonhosted.org/packages/ec/78/b27f73e923becc6e79e18fe112cf75e3200d1ee35b0dba8fa46181bce56c/tensorflow_estimator-2.5.0-py2.py3-none-any.whl (462kB)\n",
            "\u001b[K     |████████████████████████████████| 471kB 55.2MB/s \n",
            "\u001b[?25hRequirement already satisfied: google-pasta~=0.2 in /usr/local/lib/python3.7/dist-packages (from tensorflow-gpu) (0.2.0)\n",
            "Requirement already satisfied: flatbuffers~=1.12.0 in /usr/local/lib/python3.7/dist-packages (from tensorflow-gpu) (1.12)\n",
            "Requirement already satisfied: typing-extensions~=3.7.4 in /usr/local/lib/python3.7/dist-packages (from tensorflow-gpu) (3.7.4.3)\n",
            "Requirement already satisfied: wheel~=0.35 in /usr/local/lib/python3.7/dist-packages (from tensorflow-gpu) (0.36.2)\n",
            "Collecting tensorboard~=2.5\n",
            "\u001b[?25l  Downloading https://files.pythonhosted.org/packages/44/f5/7feea02a3fb54d5db827ac4b822a7ba8933826b36de21880518250b8733a/tensorboard-2.5.0-py3-none-any.whl (6.0MB)\n",
            "\u001b[K     |████████████████████████████████| 6.0MB 21.6MB/s \n",
            "\u001b[?25hRequirement already satisfied: numpy~=1.19.2 in /usr/local/lib/python3.7/dist-packages (from tensorflow-gpu) (1.19.5)\n",
            "Requirement already satisfied: protobuf>=3.9.2 in /usr/local/lib/python3.7/dist-packages (from tensorflow-gpu) (3.12.4)\n",
            "Collecting cached-property; python_version < \"3.8\"\n",
            "  Downloading https://files.pythonhosted.org/packages/48/19/f2090f7dad41e225c7f2326e4cfe6fff49e57dedb5b53636c9551f86b069/cached_property-1.5.2-py2.py3-none-any.whl\n",
            "Collecting tensorboard-data-server<0.7.0,>=0.6.0\n",
            "\u001b[?25l  Downloading https://files.pythonhosted.org/packages/60/f9/802efd84988bffd9f644c03b6e66fde8e76c3aa33db4279ddd11c5d61f4b/tensorboard_data_server-0.6.1-py3-none-manylinux2010_x86_64.whl (4.9MB)\n",
            "\u001b[K     |████████████████████████████████| 4.9MB 37.5MB/s \n",
            "\u001b[?25hRequirement already satisfied: tensorboard-plugin-wit>=1.6.0 in /usr/local/lib/python3.7/dist-packages (from tensorboard~=2.5->tensorflow-gpu) (1.8.0)\n",
            "Requirement already satisfied: google-auth-oauthlib<0.5,>=0.4.1 in /usr/local/lib/python3.7/dist-packages (from tensorboard~=2.5->tensorflow-gpu) (0.4.4)\n",
            "Requirement already satisfied: google-auth<2,>=1.6.3 in /usr/local/lib/python3.7/dist-packages (from tensorboard~=2.5->tensorflow-gpu) (1.30.0)\n",
            "Requirement already satisfied: setuptools>=41.0.0 in /usr/local/lib/python3.7/dist-packages (from tensorboard~=2.5->tensorflow-gpu) (56.1.0)\n",
            "Requirement already satisfied: requests<3,>=2.21.0 in /usr/local/lib/python3.7/dist-packages (from tensorboard~=2.5->tensorflow-gpu) (2.23.0)\n",
            "Requirement already satisfied: werkzeug>=0.11.15 in /usr/local/lib/python3.7/dist-packages (from tensorboard~=2.5->tensorflow-gpu) (2.0.0)\n",
            "Requirement already satisfied: markdown>=2.6.8 in /usr/local/lib/python3.7/dist-packages (from tensorboard~=2.5->tensorflow-gpu) (3.3.4)\n",
            "Requirement already satisfied: requests-oauthlib>=0.7.0 in /usr/local/lib/python3.7/dist-packages (from google-auth-oauthlib<0.5,>=0.4.1->tensorboard~=2.5->tensorflow-gpu) (1.3.0)\n",
            "Requirement already satisfied: cachetools<5.0,>=2.0.0 in /usr/local/lib/python3.7/dist-packages (from google-auth<2,>=1.6.3->tensorboard~=2.5->tensorflow-gpu) (4.2.2)\n",
            "Requirement already satisfied: rsa<5,>=3.1.4; python_version >= \"3.6\" in /usr/local/lib/python3.7/dist-packages (from google-auth<2,>=1.6.3->tensorboard~=2.5->tensorflow-gpu) (4.7.2)\n",
            "Requirement already satisfied: pyasn1-modules>=0.2.1 in /usr/local/lib/python3.7/dist-packages (from google-auth<2,>=1.6.3->tensorboard~=2.5->tensorflow-gpu) (0.2.8)\n",
            "Requirement already satisfied: urllib3!=1.25.0,!=1.25.1,<1.26,>=1.21.1 in /usr/local/lib/python3.7/dist-packages (from requests<3,>=2.21.0->tensorboard~=2.5->tensorflow-gpu) (1.24.3)\n",
            "Requirement already satisfied: chardet<4,>=3.0.2 in /usr/local/lib/python3.7/dist-packages (from requests<3,>=2.21.0->tensorboard~=2.5->tensorflow-gpu) (3.0.4)\n",
            "Requirement already satisfied: idna<3,>=2.5 in /usr/local/lib/python3.7/dist-packages (from requests<3,>=2.21.0->tensorboard~=2.5->tensorflow-gpu) (2.10)\n",
            "Requirement already satisfied: certifi>=2017.4.17 in /usr/local/lib/python3.7/dist-packages (from requests<3,>=2.21.0->tensorboard~=2.5->tensorflow-gpu) (2020.12.5)\n",
            "Requirement already satisfied: importlib-metadata; python_version < \"3.8\" in /usr/local/lib/python3.7/dist-packages (from markdown>=2.6.8->tensorboard~=2.5->tensorflow-gpu) (4.0.1)\n",
            "Requirement already satisfied: oauthlib>=3.0.0 in /usr/local/lib/python3.7/dist-packages (from requests-oauthlib>=0.7.0->google-auth-oauthlib<0.5,>=0.4.1->tensorboard~=2.5->tensorflow-gpu) (3.1.0)\n",
            "Requirement already satisfied: pyasn1>=0.1.3 in /usr/local/lib/python3.7/dist-packages (from rsa<5,>=3.1.4; python_version >= \"3.6\"->google-auth<2,>=1.6.3->tensorboard~=2.5->tensorflow-gpu) (0.4.8)\n",
            "Requirement already satisfied: zipp>=0.5 in /usr/local/lib/python3.7/dist-packages (from importlib-metadata; python_version < \"3.8\"->markdown>=2.6.8->tensorboard~=2.5->tensorflow-gpu) (3.4.1)\n",
            "\u001b[31mERROR: tensorflow 2.4.1 has requirement gast==0.3.3, but you'll have gast 0.4.0 which is incompatible.\u001b[0m\n",
            "\u001b[31mERROR: tensorflow 2.4.1 has requirement grpcio~=1.32.0, but you'll have grpcio 1.34.1 which is incompatible.\u001b[0m\n",
            "\u001b[31mERROR: tensorflow 2.4.1 has requirement h5py~=2.10.0, but you'll have h5py 3.1.0 which is incompatible.\u001b[0m\n",
            "\u001b[31mERROR: tensorflow 2.4.1 has requirement tensorflow-estimator<2.5.0,>=2.4.0, but you'll have tensorflow-estimator 2.5.0 which is incompatible.\u001b[0m\n",
            "Installing collected packages: cached-property, h5py, gast, keras-nightly, grpcio, tensorflow-estimator, tensorboard-data-server, tensorboard, tensorflow-gpu\n",
            "  Found existing installation: h5py 2.10.0\n",
            "    Uninstalling h5py-2.10.0:\n",
            "      Successfully uninstalled h5py-2.10.0\n",
            "  Found existing installation: gast 0.3.3\n",
            "    Uninstalling gast-0.3.3:\n",
            "      Successfully uninstalled gast-0.3.3\n",
            "  Found existing installation: grpcio 1.32.0\n",
            "    Uninstalling grpcio-1.32.0:\n",
            "      Successfully uninstalled grpcio-1.32.0\n",
            "  Found existing installation: tensorflow-estimator 2.4.0\n",
            "    Uninstalling tensorflow-estimator-2.4.0:\n",
            "      Successfully uninstalled tensorflow-estimator-2.4.0\n",
            "  Found existing installation: tensorboard 2.4.1\n",
            "    Uninstalling tensorboard-2.4.1:\n",
            "      Successfully uninstalled tensorboard-2.4.1\n",
            "Successfully installed cached-property-1.5.2 gast-0.4.0 grpcio-1.34.1 h5py-3.1.0 keras-nightly-2.5.0.dev2021032900 tensorboard-2.5.0 tensorboard-data-server-0.6.1 tensorflow-estimator-2.5.0 tensorflow-gpu-2.5.0\n"
          ],
          "name": "stdout"
        },
        {
          "output_type": "display_data",
          "data": {
            "application/vnd.colab-display-data+json": {
              "pip_warning": {
                "packages": [
                  "gast",
                  "h5py",
                  "tensorboard",
                  "tensorflow"
                ]
              }
            }
          },
          "metadata": {
            "tags": []
          }
        }
      ]
    },
    {
      "cell_type": "code",
      "metadata": {
        "colab": {
          "base_uri": "https://localhost:8080/"
        },
        "id": "G4gSbfU96mH_",
        "outputId": "087eb1f3-1936-44a0-d0fb-ea2882d2df73"
      },
      "source": [
        "!nvidia-smi"
      ],
      "execution_count": 10,
      "outputs": [
        {
          "output_type": "stream",
          "text": [
            "Mon May 24 10:28:25 2021       \n",
            "+-----------------------------------------------------------------------------+\n",
            "| NVIDIA-SMI 465.19.01    Driver Version: 460.32.03    CUDA Version: 11.2     |\n",
            "|-------------------------------+----------------------+----------------------+\n",
            "| GPU  Name        Persistence-M| Bus-Id        Disp.A | Volatile Uncorr. ECC |\n",
            "| Fan  Temp  Perf  Pwr:Usage/Cap|         Memory-Usage | GPU-Util  Compute M. |\n",
            "|                               |                      |               MIG M. |\n",
            "|===============================+======================+======================|\n",
            "|   0  Tesla T4            Off  | 00000000:00:04.0 Off |                    0 |\n",
            "| N/A   48C    P0    25W /  70W |    678MiB / 15109MiB |      0%      Default |\n",
            "|                               |                      |                  N/A |\n",
            "+-------------------------------+----------------------+----------------------+\n",
            "                                                                               \n",
            "+-----------------------------------------------------------------------------+\n",
            "| Processes:                                                                  |\n",
            "|  GPU   GI   CI        PID   Type   Process name                  GPU Memory |\n",
            "|        ID   ID                                                   Usage      |\n",
            "|=============================================================================|\n",
            "+-----------------------------------------------------------------------------+\n"
          ],
          "name": "stdout"
        }
      ]
    },
    {
      "cell_type": "code",
      "metadata": {
        "id": "M4yggBIgttn6"
      },
      "source": [
        "import tensorflow as tf\n",
        "import numpy as np\n",
        "import matplotlib.pyplot as plt"
      ],
      "execution_count": 1,
      "outputs": []
    },
    {
      "cell_type": "code",
      "metadata": {
        "id": "PxDpRr95uA9F"
      },
      "source": [
        "T=8\n",
        "D=2\n",
        "M=3"
      ],
      "execution_count": 2,
      "outputs": []
    },
    {
      "cell_type": "code",
      "metadata": {
        "colab": {
          "base_uri": "https://localhost:8080/"
        },
        "id": "_QIU3qxQuKJv",
        "outputId": "1d0c344f-7fef-4be5-d3d6-04aa7d4adb1b"
      },
      "source": [
        "X = np.random.randn(1, T, D)\n",
        "X"
      ],
      "execution_count": 3,
      "outputs": [
        {
          "output_type": "execute_result",
          "data": {
            "text/plain": [
              "array([[[ 1.30150429,  0.62055347],\n",
              "        [-0.41430267, -0.42749328],\n",
              "        [ 0.95439675, -0.37740886],\n",
              "        [-0.85345109,  0.2869347 ],\n",
              "        [ 0.89709121, -0.55839491],\n",
              "        [ 0.18981262,  0.87226494],\n",
              "        [ 0.24442701, -0.82467155],\n",
              "        [-0.56332277, -0.88437738]]])"
            ]
          },
          "metadata": {
            "tags": []
          },
          "execution_count": 3
        }
      ]
    },
    {
      "cell_type": "code",
      "metadata": {
        "id": "9ZoUOTliu812"
      },
      "source": [
        "def lstm1():\n",
        "\n",
        "  input_ = tf.keras.Input(shape=(T, D))\n",
        "  rnn = tf.keras.layers.LSTM(M, return_state=True)\n",
        "  x = rnn(input_)\n",
        "\n",
        "  model = tf.keras.Model(inputs=input_, outputs=x)\n",
        "  o, h, c = model.predict(X)\n",
        "  print(f'\\n output: {o} \\n hidden state: {h} \\n cell state: {c}')\n",
        "\n",
        "def lstm2():\n",
        "\n",
        "  input_ = tf.keras.Input(shape=(T, D))\n",
        "  rnn = tf.keras.layers.LSTM(M, return_state=True, return_sequences=True)\n",
        "  x = rnn(input_)\n",
        "\n",
        "  model = tf.keras.Model(inputs=input_, outputs=x)\n",
        "  o, h, c = model.predict(X)\n",
        "  print(f'\\n output: {o} \\n hidden state: {h} \\n cell state: {c}')"
      ],
      "execution_count": 4,
      "outputs": []
    },
    {
      "cell_type": "code",
      "metadata": {
        "id": "wNzBQmoU36Ei"
      },
      "source": [
        "def bidirectional_lstm1():\n",
        "\n",
        "  input_ = tf.keras.Input(shape=(T, D))\n",
        "  rnn = tf.keras.layers.Bidirectional(tf.keras.layers.LSTM(M, return_state=True))\n",
        "  x = rnn(input_)\n",
        "\n",
        "  model = tf.keras.Model(inputs=input_, outputs=x)\n",
        "  o, h1, c1, h2, c2 = model.predict(X)\n",
        "\n",
        "  print(f'\\n output: {o} \\n hidden state: {h1} \\n cell state: {c1}')\n",
        "  print(f'\\n hidden state 2: {h2} \\n cell state 2: {c2}')\n",
        "\n",
        "def bidirectional_lstm2():\n",
        "\n",
        "  input_ = tf.keras.Input(shape=(T, D))\n",
        "  rnn = tf.keras.layers.Bidirectional(tf.keras.layers.LSTM(M, return_state=True, return_sequences=True))\n",
        "  x = rnn(input_)\n",
        "\n",
        "  model = tf.keras.Model(inputs=input_, outputs=x)\n",
        "  o, h1, c1, h2, c2 = model.predict(X)\n",
        "  \n",
        "  print(f'\\n output: {o} \\n hidden state: {h1} \\n cell state: {c1}')\n",
        "  print(f'\\n hidden state 2: {h2} \\n cell state 2: {c2}')"
      ],
      "execution_count": 5,
      "outputs": []
    },
    {
      "cell_type": "code",
      "metadata": {
        "id": "f03QTHqCz5pQ"
      },
      "source": [
        "def gru1():\n",
        "\n",
        "  input_ = tf.keras.Input(shape=(T, D))\n",
        "  rnn = tf.keras.layers.GRU(M, return_state=True)\n",
        "  x = rnn(input_)\n",
        "\n",
        "  model = tf.keras.Model(inputs=input_, outputs=x)\n",
        "  o, h = model.predict(X)\n",
        "  print(f'\\n output: {o} \\n hidden state: {h}')\n",
        "\n",
        "def gru2():\n",
        "\n",
        "  input_ = tf.keras.Input(shape=(T, D))\n",
        "  rnn = tf.keras.layers.GRU(M, return_state=True, return_sequences=True)\n",
        "  x = rnn(input_)\n",
        "\n",
        "  model = tf.keras.Model(inputs=input_, outputs=x)\n",
        "  o, h = model.predict(X)\n",
        "  print(f'\\n output: {o} \\n hidden state: {h}')"
      ],
      "execution_count": 6,
      "outputs": []
    },
    {
      "cell_type": "code",
      "metadata": {
        "colab": {
          "base_uri": "https://localhost:8080/"
        },
        "id": "MeksGnmK0evU",
        "outputId": "8d38ffe6-ba0f-447b-d884-e1dacb0996a1"
      },
      "source": [
        "lstm1()\n",
        "print()\n",
        "lstm2()\n",
        "print()\n",
        "gru1()\n",
        "print()\n",
        "gru2()"
      ],
      "execution_count": 7,
      "outputs": [
        {
          "output_type": "stream",
          "text": [
            "\n",
            " output: [[ 0.02754593 -0.05335955  0.20477402]] \n",
            " hidden state: [[ 0.02754593 -0.05335955  0.20477402]] \n",
            " cell state: [[ 0.05439813 -0.15342027  0.34444013]]\n",
            "\n",
            "\n",
            " output: [[[ 0.12495808  0.039902    0.09250789]\n",
            "  [ 0.01501257  0.02763182  0.03787709]\n",
            "  [-0.0909612   0.07950267  0.04357034]\n",
            "  [-0.01188476  0.02607423  0.01057912]\n",
            "  [-0.14708966  0.07920034  0.01455282]\n",
            "  [ 0.03426748  0.02826627  0.08381077]\n",
            "  [-0.11100549  0.05254125  0.02297385]\n",
            "  [-0.15536936  0.03941378 -0.05597426]]] \n",
            " hidden state: [[-0.15536936  0.03941378 -0.05597426]] \n",
            " cell state: [[-0.36886662  0.09573478 -0.10095623]]\n",
            "\n",
            "\n",
            " output: [[ 0.0433556  -0.3700417  -0.11149804]] \n",
            " hidden state: [[ 0.0433556  -0.3700417  -0.11149804]]\n",
            "\n",
            "\n",
            " output: [[[-0.01380029 -0.01328706  0.2431491 ]\n",
            "  [ 0.03933402 -0.01044368 -0.02025416]\n",
            "  [ 0.05107219  0.03710089  0.17684922]\n",
            "  [ 0.00931722 -0.04101759 -0.04332976]\n",
            "  [ 0.0400633   0.02980436  0.14693683]\n",
            "  [-0.00677371 -0.04222825  0.1638351 ]\n",
            "  [ 0.06291139  0.0311833   0.05488411]\n",
            "  [ 0.10420956  0.08377669 -0.17706339]]] \n",
            " hidden state: [[ 0.10420956  0.08377669 -0.17706339]]\n"
          ],
          "name": "stdout"
        }
      ]
    },
    {
      "cell_type": "code",
      "metadata": {
        "colab": {
          "base_uri": "https://localhost:8080/"
        },
        "id": "kZLDfxkX5SO3",
        "outputId": "1b08dcef-d1c5-4c6f-b5b0-44feb5b11f7d"
      },
      "source": [
        "print()\n",
        "bidirectional_lstm1()\n",
        "print()\n",
        "bidirectional_lstm2()"
      ],
      "execution_count": 8,
      "outputs": [
        {
          "output_type": "stream",
          "text": [
            "\n",
            "WARNING:tensorflow:5 out of the last 5 calls to <function Model.make_predict_function.<locals>.predict_function at 0x7ff2baf6cc20> triggered tf.function retracing. Tracing is expensive and the excessive number of tracings could be due to (1) creating @tf.function repeatedly in a loop, (2) passing tensors with different shapes, (3) passing Python objects instead of tensors. For (1), please define your @tf.function outside of the loop. For (2), @tf.function has experimental_relax_shapes=True option that relaxes argument shapes that can avoid unnecessary retracing. For (3), please refer to https://www.tensorflow.org/guide/function#controlling_retracing and https://www.tensorflow.org/api_docs/python/tf/function for  more details.\n",
            "\n",
            " output: [[-0.10931506  0.14450428  0.11644644 -0.16370362  0.02043377 -0.11435619]] \n",
            " hidden state: [[-0.10931506  0.14450428  0.11644644]] \n",
            " cell state: [[-0.2009417   0.35007727  0.19907603]]\n",
            "\n",
            " hidden state 2: [[-0.16370362  0.02043377 -0.11435619]] \n",
            " cell state 2: [[-0.55052924  0.03852355 -0.19328937]]\n",
            "\n",
            "WARNING:tensorflow:6 out of the last 6 calls to <function Model.make_predict_function.<locals>.predict_function at 0x7ff2ba3749e0> triggered tf.function retracing. Tracing is expensive and the excessive number of tracings could be due to (1) creating @tf.function repeatedly in a loop, (2) passing tensors with different shapes, (3) passing Python objects instead of tensors. For (1), please define your @tf.function outside of the loop. For (2), @tf.function has experimental_relax_shapes=True option that relaxes argument shapes that can avoid unnecessary retracing. For (3), please refer to https://www.tensorflow.org/guide/function#controlling_retracing and https://www.tensorflow.org/api_docs/python/tf/function for  more details.\n",
            "\n",
            " output: [[[ 0.25339946  0.04262212  0.09905265 -0.09507814  0.08643603\n",
            "    0.13840297]\n",
            "  [ 0.09143157  0.02732537  0.04314755 -0.03787002  0.188876\n",
            "   -0.0783005 ]\n",
            "  [ 0.12932207  0.08639635  0.09415144 -0.09012374  0.15559752\n",
            "   -0.00403696]\n",
            "  [ 0.01273185 -0.11232392  0.00291162  0.00379805  0.09283872\n",
            "   -0.0109753 ]\n",
            "  [ 0.06635398  0.01906535  0.06670833 -0.11080563  0.16537863\n",
            "    0.01277612]\n",
            "  [ 0.15963684 -0.07807346  0.07727219 -0.04746553  0.03546294\n",
            "    0.05627945]\n",
            "  [ 0.08042548  0.03537903  0.03824256 -0.06608905  0.17924623\n",
            "   -0.14359891]\n",
            "  [-0.04057831  0.07222555 -0.10407761  0.00815827  0.09063606\n",
            "   -0.08599688]]] \n",
            " hidden state: [[-0.04057831  0.07222555 -0.10407761]] \n",
            " cell state: [[-0.08245701  0.15722752 -0.16344249]]\n",
            "\n",
            " hidden state 2: [[-0.09507814  0.08643603  0.13840297]] \n",
            " cell state 2: [[-0.17905676  0.2794723   0.20761791]]\n"
          ],
          "name": "stdout"
        }
      ]
    }
  ]
}
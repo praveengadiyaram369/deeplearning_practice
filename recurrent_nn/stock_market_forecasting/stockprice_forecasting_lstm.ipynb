{
 "cells": [
  {
   "cell_type": "markdown",
   "id": "waiting-cleanup",
   "metadata": {},
   "source": [
    "https://www.youtube.com/watch?v=H6du_pfuznE&list=PLZoTAELRMXVMdJ5sqbCK2LiM0HhQVWNzm&index=24&t=265s"
   ]
  },
  {
   "cell_type": "code",
   "execution_count": 33,
   "id": "psychological-increase",
   "metadata": {},
   "outputs": [],
   "source": [
    "import numpy as np\n",
    "import pandas as pd\n",
    "import matplotlib.pyplot as plt\n",
    "%matplotlib inline\n",
    "\n",
    "from sklearn.preprocessing import MinMaxScaler\n",
    "from sklearn.metrics import mean_squared_error\n",
    "import math\n",
    "import tensorflow as tf"
   ]
  },
  {
   "cell_type": "code",
   "execution_count": 34,
   "id": "respiratory-nicholas",
   "metadata": {},
   "outputs": [
    {
     "data": {
      "text/html": [
       "<div>\n",
       "<style scoped>\n",
       "    .dataframe tbody tr th:only-of-type {\n",
       "        vertical-align: middle;\n",
       "    }\n",
       "\n",
       "    .dataframe tbody tr th {\n",
       "        vertical-align: top;\n",
       "    }\n",
       "\n",
       "    .dataframe thead th {\n",
       "        text-align: right;\n",
       "    }\n",
       "</style>\n",
       "<table border=\"1\" class=\"dataframe\">\n",
       "  <thead>\n",
       "    <tr style=\"text-align: right;\">\n",
       "      <th></th>\n",
       "      <th>Unnamed: 0</th>\n",
       "      <th>symbol</th>\n",
       "      <th>date</th>\n",
       "      <th>close</th>\n",
       "      <th>high</th>\n",
       "      <th>low</th>\n",
       "      <th>open</th>\n",
       "      <th>volume</th>\n",
       "      <th>adjClose</th>\n",
       "      <th>adjHigh</th>\n",
       "      <th>adjLow</th>\n",
       "      <th>adjOpen</th>\n",
       "      <th>adjVolume</th>\n",
       "      <th>divCash</th>\n",
       "      <th>splitFactor</th>\n",
       "    </tr>\n",
       "  </thead>\n",
       "  <tbody>\n",
       "    <tr>\n",
       "      <th>0</th>\n",
       "      <td>0</td>\n",
       "      <td>AAPL</td>\n",
       "      <td>2015-05-27 00:00:00+00:00</td>\n",
       "      <td>132.045</td>\n",
       "      <td>132.26</td>\n",
       "      <td>130.05</td>\n",
       "      <td>130.34</td>\n",
       "      <td>45833246</td>\n",
       "      <td>121.682558</td>\n",
       "      <td>121.880685</td>\n",
       "      <td>119.844118</td>\n",
       "      <td>120.111360</td>\n",
       "      <td>45833246</td>\n",
       "      <td>0.0</td>\n",
       "      <td>1.0</td>\n",
       "    </tr>\n",
       "    <tr>\n",
       "      <th>1</th>\n",
       "      <td>1</td>\n",
       "      <td>AAPL</td>\n",
       "      <td>2015-05-28 00:00:00+00:00</td>\n",
       "      <td>131.780</td>\n",
       "      <td>131.95</td>\n",
       "      <td>131.10</td>\n",
       "      <td>131.86</td>\n",
       "      <td>30733309</td>\n",
       "      <td>121.438354</td>\n",
       "      <td>121.595013</td>\n",
       "      <td>120.811718</td>\n",
       "      <td>121.512076</td>\n",
       "      <td>30733309</td>\n",
       "      <td>0.0</td>\n",
       "      <td>1.0</td>\n",
       "    </tr>\n",
       "    <tr>\n",
       "      <th>2</th>\n",
       "      <td>2</td>\n",
       "      <td>AAPL</td>\n",
       "      <td>2015-05-29 00:00:00+00:00</td>\n",
       "      <td>130.280</td>\n",
       "      <td>131.45</td>\n",
       "      <td>129.90</td>\n",
       "      <td>131.23</td>\n",
       "      <td>50884452</td>\n",
       "      <td>120.056069</td>\n",
       "      <td>121.134251</td>\n",
       "      <td>119.705890</td>\n",
       "      <td>120.931516</td>\n",
       "      <td>50884452</td>\n",
       "      <td>0.0</td>\n",
       "      <td>1.0</td>\n",
       "    </tr>\n",
       "  </tbody>\n",
       "</table>\n",
       "</div>"
      ],
      "text/plain": [
       "   Unnamed: 0 symbol                       date    close    high     low  \\\n",
       "0           0   AAPL  2015-05-27 00:00:00+00:00  132.045  132.26  130.05   \n",
       "1           1   AAPL  2015-05-28 00:00:00+00:00  131.780  131.95  131.10   \n",
       "2           2   AAPL  2015-05-29 00:00:00+00:00  130.280  131.45  129.90   \n",
       "\n",
       "     open    volume    adjClose     adjHigh      adjLow     adjOpen  \\\n",
       "0  130.34  45833246  121.682558  121.880685  119.844118  120.111360   \n",
       "1  131.86  30733309  121.438354  121.595013  120.811718  121.512076   \n",
       "2  131.23  50884452  120.056069  121.134251  119.705890  120.931516   \n",
       "\n",
       "   adjVolume  divCash  splitFactor  \n",
       "0   45833246      0.0          1.0  \n",
       "1   30733309      0.0          1.0  \n",
       "2   50884452      0.0          1.0  "
      ]
     },
     "execution_count": 34,
     "metadata": {},
     "output_type": "execute_result"
    }
   ],
   "source": [
    "df = pd.read_csv('AAPL.csv')\n",
    "df.head(3)"
   ]
  },
  {
   "cell_type": "code",
   "execution_count": 35,
   "id": "pretty-firewall",
   "metadata": {},
   "outputs": [
    {
     "name": "stdout",
     "output_type": "stream",
     "text": [
      "<class 'pandas.core.frame.DataFrame'>\n",
      "RangeIndex: 1258 entries, 0 to 1257\n",
      "Data columns (total 15 columns):\n",
      " #   Column       Non-Null Count  Dtype  \n",
      "---  ------       --------------  -----  \n",
      " 0   Unnamed: 0   1258 non-null   int64  \n",
      " 1   symbol       1258 non-null   object \n",
      " 2   date         1258 non-null   object \n",
      " 3   close        1258 non-null   float64\n",
      " 4   high         1258 non-null   float64\n",
      " 5   low          1258 non-null   float64\n",
      " 6   open         1258 non-null   float64\n",
      " 7   volume       1258 non-null   int64  \n",
      " 8   adjClose     1258 non-null   float64\n",
      " 9   adjHigh      1258 non-null   float64\n",
      " 10  adjLow       1258 non-null   float64\n",
      " 11  adjOpen      1258 non-null   float64\n",
      " 12  adjVolume    1258 non-null   int64  \n",
      " 13  divCash      1258 non-null   float64\n",
      " 14  splitFactor  1258 non-null   float64\n",
      "dtypes: float64(10), int64(3), object(2)\n",
      "memory usage: 147.5+ KB\n"
     ]
    }
   ],
   "source": [
    "df.info()"
   ]
  },
  {
   "cell_type": "code",
   "execution_count": 36,
   "id": "blind-champagne",
   "metadata": {},
   "outputs": [
    {
     "name": "stdout",
     "output_type": "stream",
     "text": [
      "start data: 2015-05-27 00:00:00+00:00, end date: 2020-05-22 00:00:00+00:00\n"
     ]
    }
   ],
   "source": [
    "start_date = df['date'][0]\n",
    "end_date = df['date'][1257]\n",
    "print(f'start data: {start_date}, end date: {end_date}')"
   ]
  },
  {
   "cell_type": "code",
   "execution_count": 37,
   "id": "hungarian-group",
   "metadata": {},
   "outputs": [
    {
     "data": {
      "text/plain": [
       "0    132.045\n",
       "1    131.780\n",
       "2    130.280\n",
       "Name: close, dtype: float64"
      ]
     },
     "execution_count": 37,
     "metadata": {},
     "output_type": "execute_result"
    }
   ],
   "source": [
    "df_close = df.reset_index()['close']\n",
    "df_close.head(3)"
   ]
  },
  {
   "cell_type": "code",
   "execution_count": 38,
   "id": "convinced-berkeley",
   "metadata": {},
   "outputs": [
    {
     "data": {
      "text/plain": [
       "[<matplotlib.lines.Line2D at 0x7f88243e8e10>]"
      ]
     },
     "execution_count": 38,
     "metadata": {},
     "output_type": "execute_result"
    },
    {
     "data": {
      "image/png": "[encoded data removed]",
      "text/plain": [
       "<Figure size 432x288 with 1 Axes>"
      ]
     },
     "metadata": {
      "needs_background": "light"
     },
     "output_type": "display_data"
    }
   ],
   "source": [
    "plt.plot(df_close)"
   ]
  },
  {
   "cell_type": "code",
   "execution_count": 39,
   "id": "fancy-candy",
   "metadata": {},
   "outputs": [
    {
     "data": {
      "text/plain": [
       "array([[0.17607447],\n",
       "       [0.17495567],\n",
       "       [0.16862282],\n",
       "       ...,\n",
       "       [0.96635143],\n",
       "       [0.9563033 ],\n",
       "       [0.96491598]])"
      ]
     },
     "execution_count": 39,
     "metadata": {},
     "output_type": "execute_result"
    }
   ],
   "source": [
    "scaler = MinMaxScaler()\n",
    "df_close = scaler.fit_transform(np.array(df_close).reshape(-1,1))\n",
    "df_close"
   ]
  },
  {
   "cell_type": "code",
   "execution_count": 40,
   "id": "southern-america",
   "metadata": {},
   "outputs": [],
   "source": [
    "total_samples_cnt = df_close.shape[0]\n",
    "training_sample_cnt = int(total_samples_cnt*0.75)\n",
    "\n",
    "training_data = df_close[:training_sample_cnt, :]\n",
    "testing_data = df_close[training_sample_cnt:, :]"
   ]
  },
  {
   "cell_type": "code",
   "execution_count": 41,
   "id": "suitable-brunswick",
   "metadata": {},
   "outputs": [
    {
     "name": "stdout",
     "output_type": "stream",
     "text": [
      "943\n",
      "315\n"
     ]
    }
   ],
   "source": [
    "print(training_data.shape[0])\n",
    "print(testing_data.shape[0])"
   ]
  },
  {
   "cell_type": "code",
   "execution_count": 42,
   "id": "representative-butler",
   "metadata": {},
   "outputs": [],
   "source": [
    "def transform_data(input_data):\n",
    "    \n",
    "    window_length = 100\n",
    "    X = []\n",
    "    y = []\n",
    "    \n",
    "    for idx in range(len(input_data) - window_length-1):\n",
    "        \n",
    "        upper_idx = idx+window_length\n",
    "        X.append(input_data[idx:upper_idx, 0])\n",
    "        y.append(input_data[upper_idx, 0])\n",
    "        \n",
    "    return np.array(X), np.array(y)"
   ]
  },
  {
   "cell_type": "code",
   "execution_count": 43,
   "id": "economic-elite",
   "metadata": {},
   "outputs": [],
   "source": [
    "train_X, train_y = transform_data(training_data)\n",
    "test_X, test_y = transform_data(testing_data)"
   ]
  },
  {
   "cell_type": "code",
   "execution_count": 44,
   "id": "statutory-parallel",
   "metadata": {},
   "outputs": [],
   "source": [
    "assert train_X.shape[0] == train_y.shape[0]\n",
    "assert test_X.shape[0] == test_y.shape[0]"
   ]
  },
  {
   "cell_type": "code",
   "execution_count": 45,
   "id": "british-emerald",
   "metadata": {},
   "outputs": [
    {
     "data": {
      "text/plain": [
       "(842, 100)"
      ]
     },
     "execution_count": 45,
     "metadata": {},
     "output_type": "execute_result"
    }
   ],
   "source": [
    "train_X.shape"
   ]
  },
  {
   "cell_type": "code",
   "execution_count": 46,
   "id": "threatened-blood",
   "metadata": {},
   "outputs": [],
   "source": [
    "train_X = train_X.reshape(-1, 100, 1)\n",
    "test_X = test_X.reshape(-1, 100, 1)"
   ]
  },
  {
   "cell_type": "code",
   "execution_count": 47,
   "id": "sacred-rabbit",
   "metadata": {},
   "outputs": [
    {
     "data": {
      "text/plain": [
       "(842, 100, 1)"
      ]
     },
     "execution_count": 47,
     "metadata": {},
     "output_type": "execute_result"
    }
   ],
   "source": [
    "train_X.shape"
   ]
  },
  {
   "cell_type": "code",
   "execution_count": 58,
   "id": "comfortable-repeat",
   "metadata": {},
   "outputs": [],
   "source": [
    "model = tf.keras.models.Sequential([\n",
    "    tf.keras.layers.LSTM(90, return_sequences=True, input_shape=(100, 1)),\n",
    "    tf.keras.layers.LSTM(70, return_sequences=True),\n",
    "    tf.keras.layers.LSTM(50, return_sequences=False),\n",
    "    tf.keras.layers.Dense(1)\n",
    "])\n",
    "model.compile(optimizer='adam', loss='mse')"
   ]
  },
  {
   "cell_type": "code",
   "execution_count": 59,
   "id": "fiscal-affairs",
   "metadata": {},
   "outputs": [
    {
     "name": "stdout",
     "output_type": "stream",
     "text": [
      "Train on 842 samples, validate on 214 samples\n",
      "Epoch 1/50\n",
      "842/842 [==============================] - 23s 27ms/sample - loss: 0.0084 - val_loss: 0.0220\n",
      "Epoch 2/50\n",
      "842/842 [==============================] - 18s 21ms/sample - loss: 0.0013 - val_loss: 0.0119\n",
      "Epoch 3/50\n",
      "842/842 [==============================] - 18s 21ms/sample - loss: 9.1554e-04 - val_loss: 0.0052\n",
      "Epoch 4/50\n",
      "842/842 [==============================] - 18s 21ms/sample - loss: 8.3233e-04 - val_loss: 0.0053\n",
      "Epoch 5/50\n",
      "842/842 [==============================] - 17s 21ms/sample - loss: 7.2667e-04 - val_loss: 0.0066\n",
      "Epoch 6/50\n",
      "842/842 [==============================] - 17s 21ms/sample - loss: 6.5825e-04 - val_loss: 0.0039\n",
      "Epoch 7/50\n",
      "842/842 [==============================] - 17s 21ms/sample - loss: 5.8686e-04 - val_loss: 0.0033\n",
      "Epoch 8/50\n",
      "842/842 [==============================] - 17s 21ms/sample - loss: 6.4845e-04 - val_loss: 0.0036\n",
      "Epoch 9/50\n",
      "842/842 [==============================] - 17s 21ms/sample - loss: 8.1719e-04 - val_loss: 0.0022\n",
      "Epoch 10/50\n",
      "842/842 [==============================] - 17s 20ms/sample - loss: 5.9769e-04 - val_loss: 0.0030\n",
      "Epoch 11/50\n",
      "842/842 [==============================] - 17s 21ms/sample - loss: 5.2636e-04 - val_loss: 0.0070\n",
      "Epoch 12/50\n",
      "842/842 [==============================] - 18s 21ms/sample - loss: 5.8255e-04 - val_loss: 0.0059\n",
      "Epoch 13/50\n",
      "842/842 [==============================] - 18s 21ms/sample - loss: 5.0692e-04 - val_loss: 0.0041\n",
      "Epoch 14/50\n",
      "842/842 [==============================] - 17s 21ms/sample - loss: 5.3886e-04 - val_loss: 0.0017\n"
     ]
    }
   ],
   "source": [
    "early_stopping = tf.keras.callbacks.EarlyStopping(\n",
    "     min_delta=0.001, \n",
    "     patience=5, \n",
    "     restore_best_weights=True,\n",
    " )\n",
    "\n",
    "history = model.fit(train_X, train_y, epochs=50, validation_data=(test_X, test_y), callbacks=[early_stopping], batch_size=32)"
   ]
  },
  {
   "cell_type": "code",
   "execution_count": 50,
   "id": "organizational-curtis",
   "metadata": {},
   "outputs": [
    {
     "data": {
      "image/png": "[encoded data removed]",
      "text/plain": [
       "<Figure size 432x288 with 1 Axes>"
      ]
     },
     "metadata": {
      "needs_background": "light"
     },
     "output_type": "display_data"
    }
   ],
   "source": [
    "plt.plot(history.history['loss'])\n",
    "plt.show()"
   ]
  },
  {
   "cell_type": "code",
   "execution_count": 51,
   "id": "appreciated-processing",
   "metadata": {},
   "outputs": [],
   "source": [
    "train_predict = model.predict(train_X)\n",
    "test_predict = model.predict(test_X)"
   ]
  },
  {
   "cell_type": "code",
   "execution_count": 52,
   "id": "unexpected-packet",
   "metadata": {},
   "outputs": [],
   "source": [
    "train_predict = scaler.inverse_transform(train_predict)\n",
    "test_predict = scaler.inverse_transform(test_predict)"
   ]
  },
  {
   "cell_type": "code",
   "execution_count": 56,
   "id": "superior-hunger",
   "metadata": {},
   "outputs": [
    {
     "data": {
      "text/plain": [
       "150.01270357543336"
      ]
     },
     "execution_count": 56,
     "metadata": {},
     "output_type": "execute_result"
    }
   ],
   "source": [
    "train_error = math.sqrt(mean_squared_error(train_predict, train_y))\n",
    "train_error"
   ]
  },
  {
   "cell_type": "code",
   "execution_count": 57,
   "id": "collectible-course",
   "metadata": {},
   "outputs": [
    {
     "data": {
      "text/plain": [
       "245.77372954057708"
      ]
     },
     "execution_count": 57,
     "metadata": {},
     "output_type": "execute_result"
    }
   ],
   "source": [
    "test_error = math.sqrt(mean_squared_error(test_predict, test_y))\n",
    "test_error"
   ]
  },
  {
   "cell_type": "code",
   "execution_count": 69,
   "id": "desperate-veteran",
   "metadata": {},
   "outputs": [
    {
     "data": {
      "text/plain": [
       "(315, 1)"
      ]
     },
     "execution_count": 69,
     "metadata": {},
     "output_type": "execute_result"
    }
   ],
   "source": [
    "testing_data.shape"
   ]
  },
  {
   "cell_type": "code",
   "execution_count": 90,
   "id": "known-creativity",
   "metadata": {},
   "outputs": [
    {
     "name": "stdout",
     "output_type": "stream",
     "text": [
      "[0.9360714, 0.93980753, 0.94222003, 0.9434151, 0.94359064, 0.94296485, 0.94173735, 0.94007397, 0.938103, 0.93591946, 0.93359125, 0.9311659, 0.9286758, 0.9261445, 0.92358834, 0.92102057, 0.91845125, 0.91588986, 0.9133445, 0.9108224, 0.9083305, 0.9058746, 0.9034605, 0.90109277, 0.8987753, 0.8965115, 0.89430416, 0.89215547, 0.8900668, 0.88803935, 0.8860737, 0.88417023, 0.8823285, 0.8805484, 0.87882924, 0.87717026, 0.87557006, 0.87402785, 0.8725419, 0.8711113, 0.86973435, 0.8684093, 0.86713505, 0.86590946, 0.8647313, 0.86359906, 0.8625107, 0.86146486, 0.8604602, 0.8594948, 0.85856724, 0.85767627, 0.8568203, 0.85599786, 0.85520774, 0.8544485, 0.85371894, 0.8530179, 0.8523441, 0.8516964, 0.8510741, 0.8504755, 0.8499, 0.84934664, 0.84881425, 0.8483023, 0.8478097, 0.8473358, 0.84687966, 0.8464406, 0.8460181, 0.8456112, 0.8452195, 0.8448422, 0.84447885, 0.84412885, 0.8437914, 0.8434667, 0.8431535, 0.84285164, 0.84256065, 0.8422802, 0.8420097, 0.8417491, 0.8414975, 0.841255, 0.84102106, 0.84079534, 0.8405776, 0.84036756, 0.84016484, 0.83996934, 0.8397805, 0.83959836, 0.8394226, 0.83925265, 0.83908886, 0.8389306, 0.8387778, 0.8386304]\n"
     ]
    }
   ],
   "source": [
    "forecast_input = testing_data[215:].reshape(1, -1)\n",
    "\n",
    "lstm_output_100 = []\n",
    "for i in range(100):\n",
    "    \n",
    "    if i > 0:\n",
    "        forecast_input = forecast_input[1:]\n",
    "    \n",
    "    model_input = forecast_input.reshape((1, 100, 1))\n",
    "    \n",
    "    pred_out = model.predict(model_input) \n",
    "    lstm_output_100.append(pred_out[0][0])\n",
    "    forecast_input = np.append(forecast_input, pred_out[0][0])\n",
    "\n",
    "print(lstm_output_100)"
   ]
  },
  {
   "cell_type": "code",
   "execution_count": 91,
   "id": "palestinian-groove",
   "metadata": {},
   "outputs": [],
   "source": [
    "forecast_close = df.reset_index()['close'].values\n",
    "lstm_output_100 = scaler.inverse_transform(np.array(lstm_output_100).reshape(-1, 1))\n",
    "forecast_close = np.append(forecast_close, lstm_output_100)"
   ]
  },
  {
   "cell_type": "code",
   "execution_count": 92,
   "id": "cultural-youth",
   "metadata": {},
   "outputs": [
    {
     "name": "stdout",
     "output_type": "stream",
     "text": [
      "(1358,)\n"
     ]
    },
    {
     "data": {
      "text/plain": [
       "[<matplotlib.lines.Line2D at 0x7f88265f19d0>]"
      ]
     },
     "execution_count": 92,
     "metadata": {},
     "output_type": "execute_result"
    },
    {
     "data": {
      "image/png": "[encoded data removed]",
      "text/plain": [
       "<Figure size 432x288 with 1 Axes>"
      ]
     },
     "metadata": {
      "needs_background": "light"
     },
     "output_type": "display_data"
    }
   ],
   "source": [
    "print(forecast_close.shape)\n",
    "plt.plot(forecast_close)"
   ]
  },
  {
   "cell_type": "code",
   "execution_count": 93,
   "id": "developed-fellow",
   "metadata": {},
   "outputs": [
    {
     "data": {
      "text/plain": [
       "[<matplotlib.lines.Line2D at 0x7f88260dc450>]"
      ]
     },
     "execution_count": 93,
     "metadata": {},
     "output_type": "execute_result"
    },
    {
     "data": {
      "image/png": "[encoded data removed]",
      "text/plain": [
       "<Figure size 432x288 with 1 Axes>"
      ]
     },
     "metadata": {
      "needs_background": "light"
     },
     "output_type": "display_data"
    }
   ],
   "source": [
    "plt.plot(forecast_close[1000:])"
   ]
  }
 ],
 "metadata": {
  "kernelspec": {
   "display_name": "Python 3",
   "language": "python",
   "name": "python3"
  },
  "language_info": {
   "codemirror_mode": {
    "name": "ipython",
    "version": 3
   },
   "file_extension": ".py",
   "mimetype": "text/x-python",
   "name": "python",
   "nbconvert_exporter": "python",
   "pygments_lexer": "ipython3",
   "version": "3.7.6"
  }
 },
 "nbformat": 4,
 "nbformat_minor": 5
}
